{
 "cells": [
  {
   "cell_type": "markdown",
   "id": "b022b360",
   "metadata": {},
   "source": [
    "# Data Science Tools and Ecosystem"
   ]
  },
  {
   "cell_type": "markdown",
   "id": "987e40a2",
   "metadata": {},
   "source": [
    "In this notebook, Data Science Tools and Ecosystem are summarized."
   ]
  },
  {
   "cell_type": "markdown",
   "id": "75441724",
   "metadata": {},
   "source": [
    "Some of the popular languages that Data Scientists use are:\n",
    "1. R\n",
    "2. Python\n",
    "3. Scala"
   ]
  },
  {
   "cell_type": "markdown",
   "id": "8d8b7bcd",
   "metadata": {},
   "source": [
    "Some of the commonly used libraries used by Data Scientists include:   \n",
    "i. Pandas  \n",
    "ii. Numpy  \n",
    "iii. Seaborn  "
   ]
  },
  {
   "cell_type": "markdown",
   "id": "af97cfa2",
   "metadata": {},
   "source": [
    "|Data Science Tools|\n",
    "|--------------------|\n",
    "|Visual Studio Code|\n",
    "|Jupyter Notebook|\n",
    "|R|\n"
   ]
  },
  {
   "cell_type": "markdown",
   "id": "26fff74d",
   "metadata": {},
   "source": [
    "### Below are a few examples of evaluating arithmetic expressions in Python"
   ]
  },
  {
   "cell_type": "code",
   "execution_count": 1,
   "id": "a6dc3bc0",
   "metadata": {},
   "outputs": [
    {
     "data": {
      "text/plain": [
       "17"
      ]
     },
     "execution_count": 1,
     "metadata": {},
     "output_type": "execute_result"
    }
   ],
   "source": [
    "# Create a code cell to multiply and add numbers\n",
    "(3*4)+5"
   ]
  },
  {
   "cell_type": "code",
   "execution_count": 2,
   "id": "13905636",
   "metadata": {},
   "outputs": [
    {
     "data": {
      "text/plain": [
       "3.3333333333333335"
      ]
     },
     "execution_count": 2,
     "metadata": {},
     "output_type": "execute_result"
    }
   ],
   "source": [
    "#Create a code cell to convert minutes to hours\n",
    "#60 minutes = 1 hr\n",
    "# Code below  will convert 200 minutes to hours by dividing by 60\n",
    "200/60 "
   ]
  },
  {
   "cell_type": "markdown",
   "id": "7290b234",
   "metadata": {},
   "source": [
    "**Objectives:**\n",
    "+ List popular languages for Data Science.\n",
    "+ List examples of languages, libraries and tools used in Data Science\n",
    "+ Learn how to create a github account\n",
    "+ learn how to use a Jupyter Notebook\n",
    "+ Identify tools in Anaconda Jupyter Environment"
   ]
  },
  {
   "cell_type": "markdown",
   "id": "07b650f9",
   "metadata": {},
   "source": [
    "## Author   \n",
    "Moradeke Adeleye"
   ]
  }
 ],
 "metadata": {
  "kernelspec": {
   "display_name": "Python 3 (ipykernel)",
   "language": "python",
   "name": "python3"
  },
  "language_info": {
   "codemirror_mode": {
    "name": "ipython",
    "version": 3
   },
   "file_extension": ".py",
   "mimetype": "text/x-python",
   "name": "python",
   "nbconvert_exporter": "python",
   "pygments_lexer": "ipython3",
   "version": "3.10.9"
  }
 },
 "nbformat": 4,
 "nbformat_minor": 5
}
